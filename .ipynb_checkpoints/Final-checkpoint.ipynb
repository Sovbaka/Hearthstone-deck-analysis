{
 "cells": [
  {
   "cell_type": "markdown",
   "id": "457824b1-ac3d-4fd4-9f28-2f1e76a37f46",
   "metadata": {},
   "source": [
    "## Карточная игра — явное обнаружение умственного банкротства. Не будучи в состоянии обмениваться мыслями, люди перебрасываются картами.\n",
    " <div style=\"margin-left: 800px;\">\n",
    "     \n",
    "*Артур Шопенгауэр об игроках в Heartstone*\n",
    "</div>\n"
   ]
  },
  {
   "cell_type": "code",
   "execution_count": null,
   "id": "da736fb2-5de8-4c92-ad2b-a97d0cfba4b1",
   "metadata": {},
   "outputs": [],
   "source": []
  },
  {
   "cell_type": "code",
   "execution_count": null,
   "id": "d7114bbb-1f5e-4681-8f63-df7e8f1dcfb5",
   "metadata": {},
   "outputs": [],
   "source": []
  }
 ],
 "metadata": {
  "kernelspec": {
   "display_name": "Python 3 (ipykernel)",
   "language": "python",
   "name": "python3"
  },
  "language_info": {
   "codemirror_mode": {
    "name": "ipython",
    "version": 3
   },
   "file_extension": ".py",
   "mimetype": "text/x-python",
   "name": "python",
   "nbconvert_exporter": "python",
   "pygments_lexer": "ipython3",
   "version": "3.10.0"
  }
 },
 "nbformat": 4,
 "nbformat_minor": 5
}
