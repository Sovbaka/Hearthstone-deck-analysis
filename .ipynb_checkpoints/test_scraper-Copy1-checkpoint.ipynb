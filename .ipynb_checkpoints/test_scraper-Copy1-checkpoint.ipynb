{
 "cells": [
  {
   "cell_type": "code",
   "execution_count": 1,
   "id": "a5fc11a9-6707-4eef-9bc4-56052f51bfe3",
   "metadata": {},
   "outputs": [],
   "source": [
    "import requests\n",
    "import html\n",
    "from bs4 import BeautifulSoup\n",
    "from re import search\n",
    "import time\n",
    "import warnings\n",
    "import json\n",
    "import csv\n",
    "\n",
    "warnings.filterwarnings('ignore')"
   ]
  },
  {
   "cell_type": "code",
   "execution_count": 2,
   "id": "592d44d4-7274-4cbd-ae4e-3dc6aeec9699",
   "metadata": {},
   "outputs": [],
   "source": [
    "def get_cards(soup):\n",
    "    try:\n",
    "        Card_names = soup.find_all('tr')  #во всем документе ровно одна таблица, её table rows – карты.\n",
    "        cards = {}\n",
    "        for card in Card_names:\n",
    "            name = card.find('td', class_='col-name')\n",
    "            if type(name) is not type(None):\n",
    "                cards[name.find('a').string.strip()] = int(search(r'(?<=× ).*', str(name)).group(0))\n",
    "    except:\n",
    "        cards = {}\n",
    "    return cards\n"
   ]
  },
  {
   "cell_type": "code",
   "execution_count": 3,
   "id": "59545118-b915-4887-8a02-3a8203fa80bb",
   "metadata": {},
   "outputs": [],
   "source": [
    "def get_data(soup):\n",
    "\n",
    "    regim = 'standart' if soup.find('p', class_='is-std') else 'wild'\n",
    "    \n",
    "    rating_string = str(soup.find('div', class_='deck-rating-form'))\n",
    "    rating = int(search(r'data-rating-sum=\"([^\"]+)\"', rating_string).group(1))\n",
    "\n",
    "    code_string = str(soup.find('button', class_='copy-button button'))\n",
    "    code = search(r'data-clipboard-text=\"([^\"]+)\"', code_string).group(1)\n",
    "\n",
    "    Class = soup.find_all('li', class_='b-breadcrumb-item')[2].find('span', itemprop = 'name').string\n",
    "        \n",
    "    deck_stats = soup.find('ul', class_='t-deck-stats')\n",
    "    deck_details = soup.find('ul', class_='deck-details')\n",
    "\n",
    "    try:\n",
    "        minion_count = int(deck_stats.find('li', class_='t-deck-card-count-minions').string.split()[0])\n",
    "    except:\n",
    "        minion_count = 0\n",
    "\n",
    "    try:\n",
    "        spell_count = int(deck_stats.find('li', class_='t-deck-card-count-spells').string.split()[0])\n",
    "    except:\n",
    "        spell_count = 0\n",
    "\n",
    "    try:\n",
    "        weapon_count = int(deck_stats.find('li', class_='t-deck-card-count-weapons').string.split()[0])\n",
    "    except:\n",
    "        weapon_count = 0\n",
    "    \n",
    "\n",
    "    craft_cost = int(deck_details.find('span', class_ ='craft-cost').string)\n",
    "    creation_date = search(r'(?<=Created: <span>)[^\\s]+', str(deck_details)).group(0)\n",
    "    deck_type = deck_details.find('span', class_ = 'deck-type').string\n",
    "    deck_archetype = deck_details.find_all('span', class_ = 'deck-type')[1].find('a').string\n",
    "\n",
    "    cards = get_cards(soup)\n",
    "    \n",
    "    \n",
    "\n",
    "\n",
    "    data = {'regim': regim, 'rating': rating, 'Class': Class, 'minion_count': minion_count, 'spell_count': spell_count,\n",
    "                        'weapon_count': weapon_count, 'craft_cost': craft_cost, 'creation_date': creation_date,\n",
    "                        'deck_type': deck_type, 'deck_archetype': deck_archetype, 'cards': cards, 'code': code}\n",
    "    return data\n"
   ]
  },
  {
   "cell_type": "code",
   "execution_count": 4,
   "id": "09a36c8b-558e-4a4d-b2ca-b8d62bf18951",
   "metadata": {},
   "outputs": [],
   "source": [
    "def get_response(deck_url, wait_time = 0):\n",
    "    home = 'https://www.hearthpwn.com/'\n",
    "    with requests.get(home + deck_url, verify=False) as deck:\n",
    "        if deck.status_code == 429:\n",
    "            print('error 429', end = ' ')\n",
    "            wait_time += 1\n",
    "            time.sleep(wait_time)\n",
    "            return get_response(deck_url, wait_time)\n",
    "        else:\n",
    "            page_content = deck.text\n",
    "            soup = BeautifulSoup(page_content, 'lxml')\n",
    "            time.sleep(0.4)\n",
    "            return(soup)\n"
   ]
  },
  {
   "cell_type": "code",
   "execution_count": 5,
   "id": "3ca76cc2-e524-4b54-a954-62fedfadf62c",
   "metadata": {},
   "outputs": [],
   "source": [
    "with open('allcards.json', 'r', encoding='utf-8') as file:\n",
    "    data = json.load(file)\n",
    "\n",
    "card_names = [card['name'] for card in data]\n",
    "card_names = sorted(list(set(card_names))) #удаляем дубликаты в данных (а они там есть!)\n",
    "card_names = [card for card in card_names if (('Rank 2' not in card) & ('Rank 3' not in card))] #эти карты нельзя использовать для создания колоды"
   ]
  },
  {
   "cell_type": "code",
   "execution_count": 6,
   "id": "17065d19-a4b3-4502-a714-8a8fe91eb574",
   "metadata": {},
   "outputs": [],
   "source": [
    "keys = ['regim', 'rating', 'Class', 'minion_count', 'spell_count', 'weapon_count',\n",
    "                      'craft_cost', 'creation_date', 'deck_type', 'deck_archetype', 'code']\n",
    "\n",
    "def append_to_csv(filename, deck_list, card_names):\n",
    "    with open(filename, mode = 'a', newline = '', encoding = 'utf-8') as file:\n",
    "        writer =  csv.writer(file)\n",
    "        for deck in deck_list:\n",
    "            row = [0]*len(card_names)\n",
    "            for card_name, count in deck['cards'].items():\n",
    "                if card_name in card_names:\n",
    "                    index = card_names.index(card_name)\n",
    "                    row[index] = count\n",
    "            writer.writerow([deck[key] for key in keys] + row)\n",
    "        "
   ]
  },
  {
   "cell_type": "code",
   "execution_count": null,
   "id": "1fb7dc8d-21df-474f-8d2e-e6fa5f23f467",
   "metadata": {},
   "outputs": [],
   "source": [
    "'''with open('DataTable.csv', mode='w', newline='', encoding='utf-8') as file:\n",
    "    writer = csv.writer(file)\n",
    "    headers = keys + card_names\n",
    "    writer.writerow(headers)'''\n",
    "#инициализация csv файла, не запускать"
   ]
  },
  {
   "cell_type": "code",
   "execution_count": null,
   "id": "e8b715d7-d322-4d7c-9234-e3280708a209",
   "metadata": {},
   "outputs": [],
   "source": [
    "pages = ['https://www.hearthpwn.com/decks?page=' + str(i) + '&sort=datemodified' for i in range(4595, 4700)]\n",
    "deck_list = []\n",
    "for page in pages:\n",
    "    fresh_deck_list = []\n",
    "    page_req = requests.get(page)\n",
    "\n",
    "    decoded_content = html.unescape(page_req.text)\n",
    "    soup = BeautifulSoup(decoded_content)\n",
    "    page_content = soup.find_all('td',class_='col-name')\n",
    "    url_list = [item.find('a')['href'] for item in page_content]\n",
    "    \n",
    "    for deck_url in url_list:\n",
    "        fresh_deck_list.append(get_data(get_response(deck_url)))\n",
    "    \n",
    "    deck_list += fresh_deck_list\n",
    "        \n",
    "    print(int(search(r\"page=(\\d+)\", page).group(1)), end= ' ')\n",
    "        \n",
    "        \n",
    "    time.sleep(2)\n"
   ]
  },
  {
   "cell_type": "code",
   "execution_count": 8,
   "id": "b8e6b3c1-1bd0-4d30-8e1a-8ef4391c17fb",
   "metadata": {},
   "outputs": [],
   "source": [
    "append_to_csv('DataTable.csv', deck_list, card_names)"
   ]
  },
  {
   "cell_type": "markdown",
   "id": "d9ebffae-7a3c-4f7a-9e22-27efdec5c4bf",
   "metadata": {},
   "source": [
    "Добаление карт делается \"руками\": сначала выставляются страницы, которые надо скачать, затем они перезаписываются в основной файл, выставляются следующие страницы и т.д...."
   ]
  },
  {
   "cell_type": "code",
   "execution_count": null,
   "id": "c49628ab-ae41-4bda-a0f1-9d50693d748c",
   "metadata": {},
   "outputs": [],
   "source": []
  }
 ],
 "metadata": {
  "kernelspec": {
   "display_name": "Python 3 (ipykernel)",
   "language": "python",
   "name": "python3"
  },
  "language_info": {
   "codemirror_mode": {
    "name": "ipython",
    "version": 3
   },
   "file_extension": ".py",
   "mimetype": "text/x-python",
   "name": "python",
   "nbconvert_exporter": "python",
   "pygments_lexer": "ipython3",
   "version": "3.10.0"
  }
 },
 "nbformat": 4,
 "nbformat_minor": 5
}
