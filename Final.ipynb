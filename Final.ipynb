{
 "cells": [
  {
   "cell_type": "markdown",
   "id": "457824b1-ac3d-4fd4-9f28-2f1e76a37f46",
   "metadata": {},
   "source": [
    "## Карточная игра — явное обнаружение умственного банкротства. Не будучи в состоянии обмениваться мыслями, люди перебрасываются картами.\n",
    " <div style=\"margin-left: 700px;\">\n",
    " <font size=\"3\">\n",
    "     \n",
    "*Артур Шопенгауэр об игроках в Heartstone*\n",
    "</font>\n",
    "</div>\n"
   ]
  },
  {
   "cell_type": "markdown",
   "id": "27f971d4-19a7-4a87-900d-d3014b48e47b",
   "metadata": {},
   "source": [
    "Имеем: статистика по пользовательским колодам, их популярности\n",
    "Не имеем: статистика по победам тех или иных колод"
   ]
  },
  {
   "cell_type": "code",
   "execution_count": null,
   "id": "d7114bbb-1f5e-4681-8f63-df7e8f1dcfb5",
   "metadata": {},
   "outputs": [],
   "source": []
  }
 ],
 "metadata": {
  "kernelspec": {
   "display_name": "Python 3 (ipykernel)",
   "language": "python",
   "name": "python3"
  },
  "language_info": {
   "codemirror_mode": {
    "name": "ipython",
    "version": 3
   },
   "file_extension": ".py",
   "mimetype": "text/x-python",
   "name": "python",
   "nbconvert_exporter": "python",
   "pygments_lexer": "ipython3",
   "version": "3.10.0"
  }
 },
 "nbformat": 4,
 "nbformat_minor": 5
}
