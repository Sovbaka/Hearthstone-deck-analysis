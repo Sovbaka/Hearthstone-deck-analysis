{
 "cells": [
  {
   "cell_type": "markdown",
   "id": "4875dd9b-51b9-42c4-a1ac-794e0ca3c600",
   "metadata": {},
   "source": [
    "#### Из имеющегося файла .json выбираем только информацию об имени и записываем в .csv файл"
   ]
  },
  {
   "cell_type": "code",
   "execution_count": 2,
   "id": "fb1b6323-c6cf-4191-a178-5c60b1cd7468",
   "metadata": {},
   "outputs": [],
   "source": [
    "import json\n",
    "import csv"
   ]
  },
  {
   "cell_type": "code",
   "execution_count": 3,
   "id": "28ec63e4-06c7-4826-b017-3a1179235b85",
   "metadata": {},
   "outputs": [],
   "source": [
    "with open('allcards.json', 'r', encoding='utf-8') as file:\n",
    "    data = json.load(file)\n",
    "\n",
    "card_names = [card['name'] for card in data]\n",
    "card_names = sorted(list(set(card_names))) #удаляем дубликаты в данных (а они там есть!)\n",
    "card_names = [card for card in card_names if (('Rank 2' not in card) & ('Rank 3' not in card))] #эти карты нельзя использовать для создания колоды\n",
    "\n",
    "with open('card_names.csv', 'w', newline='', encoding='utf-8') as file:\n",
    "    writer = csv.writer(file)\n",
    "    writer.writerow(['Card Name'])  \n",
    "    for name in card_names:\n",
    "        writer.writerow([name])"
   ]
  },
  {
   "cell_type": "code",
   "execution_count": null,
   "id": "abc0ee9c-d7eb-4d6c-997c-69be409e0f01",
   "metadata": {},
   "outputs": [],
   "source": []
  }
 ],
 "metadata": {
  "kernelspec": {
   "display_name": "Python 3 (ipykernel)",
   "language": "python",
   "name": "python3"
  },
  "language_info": {
   "codemirror_mode": {
    "name": "ipython",
    "version": 3
   },
   "file_extension": ".py",
   "mimetype": "text/x-python",
   "name": "python",
   "nbconvert_exporter": "python",
   "pygments_lexer": "ipython3",
   "version": "3.10.0"
  }
 },
 "nbformat": 4,
 "nbformat_minor": 5
}
